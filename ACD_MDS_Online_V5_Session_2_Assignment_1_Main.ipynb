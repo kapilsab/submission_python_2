{
 "cells": [
  {
   "cell_type": "code",
   "execution_count": 10,
   "metadata": {},
   "outputs": [
    {
     "name": "stdout",
     "output_type": "stream",
     "text": [
      "Please enter the comma separated numbers1,2,3\n",
      "[1, 2, 3]\n"
     ]
    }
   ],
   "source": [
    "############################################# Session 2: Assignment 1 ####################################\n",
    "#\n",
    "#1. Write a program which accepts a sequence of comma-separated numbers from console and generate a list.\n",
    "#\n",
    "##########################################################################################################\n",
    "inputString = str(input(\"Please enter the comma separated numbers\"))\n",
    "splitList = inputString.split(\",\")\n",
    "splitList = list(map(int, splitList))\n",
    "print(splitList)"
   ]
  },
  {
   "cell_type": "code",
   "execution_count": 41,
   "metadata": {},
   "outputs": [
    {
     "name": "stdout",
     "output_type": "stream",
     "text": [
      "*\n",
      "**\n",
      "***\n",
      "****\n",
      "*****\n",
      "*****\n",
      "****\n",
      "***\n",
      "**\n",
      "*\n"
     ]
    }
   ],
   "source": [
    "#2. Create the below pattern using nested for loop in Python.\n",
    "\n",
    "i=[1,2,3,4,5]\n",
    "\n",
    "#Forward traverse a list\n",
    "for j in i:\n",
    "    outputStr = ''\n",
    "    k=0\n",
    "    while k<j:\n",
    "        #print(j,k)\n",
    "        outputStr += \"*\"\n",
    "        k=k+1   \n",
    "    print(outputStr)\n",
    "    j=j+1\n",
    "\n",
    "#reverse traverse a list\n",
    "for item in i[::-1]:\n",
    "    #print(item)\n",
    "    k=item\n",
    "    outputStr = ''\n",
    "    while k>0:        \n",
    "        #print(k)\n",
    "        outputStr += \"*\"\n",
    "        k=k-1   \n",
    "    print(outputStr)\n",
    "    "
   ]
  },
  {
   "cell_type": "code",
   "execution_count": 1,
   "metadata": {},
   "outputs": [
    {
     "name": "stdout",
     "output_type": "stream",
     "text": [
      "Put the awasome word you want in reverse order: Kapil\n",
      "lipaK\n"
     ]
    }
   ],
   "source": [
    "# 3. Write a Python program to reverse a word after accepting the input from the user.\n",
    "# Sample Output:\n",
    "# Input word: AcadGild\n",
    "# Output: dilGdacA\n",
    "\n",
    "str = input(\"Put the awasome word you want in reverse order: \")\n",
    "outputString = \"\"\n",
    "for c in str[::-1]:\n",
    "    #print(c)\n",
    "    outputString += c\n",
    "print(outputString)\n"
   ]
  },
  {
   "cell_type": "code",
   "execution_count": 84,
   "metadata": {},
   "outputs": [
    {
     "name": "stdout",
     "output_type": "stream",
     "text": [
      "WE, THE PEOPLE OF INDIA,\n",
      "\t having solemnly resolved to constitute India into a SOVEREIGN, \n",
      "\t\tSOCIALIST, SECULAR, DEMOCRATIC REPUBLIC \n",
      "\t\t  and to secure to all its citizens\n"
     ]
    }
   ],
   "source": [
    "#4. Write a Python Program to print the given string in the format specified in the sample output.\n",
    "#WE, THE PEOPLE OF INDIA, having solemnly resolved to constitute India into a SOVEREIGN,\n",
    "#SOCIALIST, SECULAR, DEMOCRATIC REPUBLIC and to secure to all its citizens\n",
    "#Sample Output:\n",
    "#WE, THE PEOPLE OF INDIA,\n",
    "#    having solemnly resolved to constitute India into a SOVEREIGN, !\n",
    "#        SOCIALIST, SECULAR, DEMOCRATIC REPUBLIC\n",
    "#            and to secure to all its citizens\n",
    "\n",
    "inputStr = \"WE, THE PEOPLE OF INDIA, having solemnly resolved to constitute India into a SOVEREIGN, SOCIALIST, SECULAR, DEMOCRATIC REPUBLIC and to secure to all its citizens\"\n",
    "\n",
    "outStr = \"WE, THE PEOPLE OF INDIA,\\n\\t having solemnly resolved to constitute India into a SOVEREIGN, \\n\\t\\tSOCIALIST, SECULAR, DEMOCRATIC REPUBLIC \\n\\t\\t\"+\" \"+\" and to secure to all its citizens\"\n",
    "\n",
    "print(outStr)"
   ]
  },
  {
   "cell_type": "code",
   "execution_count": null,
   "metadata": {
    "collapsed": true
   },
   "outputs": [],
   "source": []
  }
 ],
 "metadata": {
  "kernelspec": {
   "display_name": "Python 3",
   "language": "python",
   "name": "python3"
  },
  "language_info": {
   "codemirror_mode": {
    "name": "ipython",
    "version": 3
   },
   "file_extension": ".py",
   "mimetype": "text/x-python",
   "name": "python",
   "nbconvert_exporter": "python",
   "pygments_lexer": "ipython3",
   "version": "3.6.3"
  }
 },
 "nbformat": 4,
 "nbformat_minor": 2
}
